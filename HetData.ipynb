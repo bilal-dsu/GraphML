{
 "cells": [
  {
   "cell_type": "code",
   "execution_count": 1,
   "id": "e81b92c3",
   "metadata": {},
   "outputs": [],
   "source": [
    "#pip install torch torchvision torchaudio --extra-index-url https://download.pytorch.org/whl/cpu\n",
    "#pip install torch-scatter torch-sparse torch-cluster torch-spline-conv torch-geometric -f https://data.pyg.org/whl/torch-1.12.0+cpu.html\n"
   ]
  },
  {
   "cell_type": "code",
   "execution_count": 2,
   "id": "b5a82bad",
   "metadata": {},
   "outputs": [],
   "source": [
    "from torch_geometric.data import HeteroData\n",
    "import torch\n",
    "\n",
    "import pandas as pd\n"
   ]
  },
  {
   "cell_type": "code",
   "execution_count": 3,
   "id": "ab1d17c0",
   "metadata": {},
   "outputs": [],
   "source": [
    "#Input use case name to append \n",
    "usecase=\"IND2\" \n",
    "\n",
    "'''\n",
    "NEW: Literature review 2021\n",
    "BIB1: Bibliometric Study with seminal seed DOIs\n",
    "BIB2: Bibliometric Study with random seed DOIs\n",
    "IND1: Indicators Review with seminal seed DOIs\n",
    "IND2: Indicators Review with random seed DOIs\n",
    "COM: Community Review with random seed DOIs\n",
    "'''\n",
    "\n",
    "#Date range\n",
    "if usecase[0:3]==\"BIB\":\n",
    "    start_year = 2010\n",
    "    end_year = 2020\n",
    "elif usecase[0:3]==\"IND\":\n",
    "    start_year = 1985\n",
    "    end_year = 2015\n",
    "elif usecase[0:3]==\"COM\":\n",
    "    start_year = 1970\n",
    "    end_year = 2009\n",
    "else:\n",
    "    start_year = 1970\n",
    "    end_year = 2020\n",
    "\n",
    "usecaseDIR= \"../\"+usecase+\"/\"\n",
    "\n",
    "citNet = usecaseDIR+str(start_year)+\"COCI\"+str(end_year)+\".pkl\"\n",
    "metadata = usecaseDIR+str(start_year)+\"metadata\"+str(end_year)+\".pkl\"\n",
    "\n",
    "autCitNet = usecaseDIR+\"autCOCI.pkl\"\n",
    "autCitNetLst = usecaseDIR+\"autCOCILst.pkl\"\n",
    "\n",
    "pubCentPkl = usecaseDIR+\"pubCent.pkl\"\n",
    "autCentPkl = usecaseDIR+\"autCent.pkl\"\n",
    "venCentPkl = usecaseDIR+\"venCent.pkl\"\n",
    "\n",
    "DOIPkl = usecaseDIR+\"DOIs.pkl\"\n",
    "DOItestPkl = usecaseDIR+\"DOItest.pkl\"\n",
    "refDf = usecaseDIR+\"refDf.pkl\"\n",
    "\n",
    "FMatPkl = usecaseDIR+\"FMat.pkl\"\n",
    "ptHeteroData = usecaseDIR+\"HeteroData.pt\"\n",
    "\n",
    "\n",
    "PublicationGraph = usecaseDIR+\"Publication.graph\"\n",
    "PublicationHash = usecaseDIR+\"Publication.hash\"\n",
    "\n",
    "VenueGraph = usecaseDIR+\"Venue.graph\"\n",
    "VenueHash = usecaseDIR+\"Venue.hash\"\n",
    "\n",
    "AuthorGraph = usecaseDIR+\"Author.graph\"\n",
    "AuthorHash = usecaseDIR+\"Author.hash\""
   ]
  },
  {
   "cell_type": "code",
   "execution_count": 4,
   "id": "dfd86520",
   "metadata": {},
   "outputs": [],
   "source": [
    "data = HeteroData()"
   ]
  },
  {
   "cell_type": "code",
   "execution_count": 5,
   "id": "743a94a6",
   "metadata": {},
   "outputs": [],
   "source": [
    "pubCent = pd.read_pickle(pubCentPkl)\n",
    "venCent = pd.read_pickle(venCentPkl)\n",
    "autCent = pd.read_pickle(autCentPkl)\n"
   ]
  },
  {
   "cell_type": "code",
   "execution_count": 6,
   "id": "c3faade0",
   "metadata": {},
   "outputs": [],
   "source": [
    "data['Publication'].x = torch.tensor(pubCent.values)\n",
    "\n",
    "data['Venue'].x = torch.tensor(venCent.values)\n",
    "\n",
    "data['Author'].x = torch.tensor(autCent.values)"
   ]
  },
  {
   "cell_type": "code",
   "execution_count": 7,
   "id": "2c254e98",
   "metadata": {},
   "outputs": [],
   "source": [
    "autCOCI = pd.read_pickle(autCitNet)\n",
    "COCI = pd.read_pickle(citNet)\n",
    "DF = pd.read_pickle(metadata).reset_index()"
   ]
  },
  {
   "cell_type": "code",
   "execution_count": 8,
   "id": "7964f833",
   "metadata": {},
   "outputs": [],
   "source": [
    "pubCN = COCI.drop(columns=['Venue_citing','Venue_cited','Title_citing','Title_cited'], axis=1)"
   ]
  },
  {
   "cell_type": "code",
   "execution_count": 9,
   "id": "0a748105",
   "metadata": {},
   "outputs": [],
   "source": [
    "venCN = COCI.drop(columns=['citing','cited','Title_citing','Title_cited'], axis=1)"
   ]
  },
  {
   "cell_type": "code",
   "execution_count": 10,
   "id": "ce21da42",
   "metadata": {},
   "outputs": [],
   "source": [
    "autCN = autCOCI.drop(columns=['Venue_citing','Venue_cited','citing','cited'], axis=1)"
   ]
  },
  {
   "cell_type": "code",
   "execution_count": 11,
   "id": "19cf80c4",
   "metadata": {},
   "outputs": [],
   "source": [
    "pubCent = pubCent.reset_index()\n",
    "pubCent['index']=pubCent.index\n",
    "pubCent = pubCent.set_index('Publication').drop(columns=['IN','OUT','ACC','Hub','Auth','PR','BC','CC'], axis=1)\n"
   ]
  },
  {
   "cell_type": "code",
   "execution_count": 12,
   "id": "a388e453",
   "metadata": {},
   "outputs": [],
   "source": [
    "venCent = venCent.reset_index()\n",
    "venCent['index']=venCent.index\n",
    "venCent = venCent.set_index('Venue').drop(columns=['IN','OUT','ACC','Hub','Auth','PR','BC','CC'], axis=1)\n"
   ]
  },
  {
   "cell_type": "code",
   "execution_count": 13,
   "id": "c2e465d8",
   "metadata": {},
   "outputs": [],
   "source": [
    "autCent = autCent.reset_index()\n",
    "autCent['index']=autCent.index\n",
    "autCent = autCent.set_index('Author').drop(columns=['IN','OUT','ACC','Hub','Auth','PR','BC','CC'], axis=1)\n"
   ]
  },
  {
   "cell_type": "code",
   "execution_count": 14,
   "id": "64bd8416",
   "metadata": {},
   "outputs": [],
   "source": [
    "pubCN = pubCN.merge(pubCent, left_on='citing', right_index=True)\n",
    "pubCN = pubCN.merge(pubCent, left_on='cited', right_index=True, suffixes=['_citing','_cited'])"
   ]
  },
  {
   "cell_type": "code",
   "execution_count": 15,
   "id": "633b3691",
   "metadata": {},
   "outputs": [],
   "source": [
    "venCN = venCN.merge(venCent, left_on='Venue_citing', right_index=True)\n",
    "venCN = venCN.merge(venCent, left_on='Venue_cited', right_index=True, suffixes=['_citing','_cited'])"
   ]
  },
  {
   "cell_type": "code",
   "execution_count": 16,
   "id": "79e3f71e",
   "metadata": {},
   "outputs": [],
   "source": [
    "src = list(venCN.index_citing)\n",
    "dst = list(venCN.index_cited)\n",
    "\n",
    "edge_index = torch.tensor([src, dst])\n",
    "\n",
    "data['Venue', 'cite', 'Venue'].edge_index = edge_index"
   ]
  },
  {
   "cell_type": "code",
   "execution_count": 17,
   "id": "b62f491b",
   "metadata": {},
   "outputs": [],
   "source": [
    "src = list(pubCN.index_citing)\n",
    "dst = list(pubCN.index_cited)\n",
    "\n",
    "edge_index = torch.tensor([src, dst])\n",
    "\n",
    "data['Publication', 'cite', 'Publication'].edge_index = edge_index"
   ]
  },
  {
   "cell_type": "code",
   "execution_count": 18,
   "id": "4839cc5b",
   "metadata": {},
   "outputs": [],
   "source": [
    "DF = DF.merge(pubCent, left_on='DOI', right_index=True)"
   ]
  },
  {
   "cell_type": "code",
   "execution_count": 19,
   "id": "76d95f22",
   "metadata": {},
   "outputs": [],
   "source": [
    "DF = DF.merge(venCent, left_on='Venue', right_index=True, suffixes=['_DOI','_Venue'])"
   ]
  },
  {
   "cell_type": "code",
   "execution_count": 20,
   "id": "220158db",
   "metadata": {},
   "outputs": [],
   "source": [
    "DF = DF.drop(columns=['DOI','Title','Venue','Year','Author'],axis=1).groupby('index_DOI').first().reset_index()"
   ]
  },
  {
   "cell_type": "code",
   "execution_count": 21,
   "id": "5a2e04c8",
   "metadata": {},
   "outputs": [],
   "source": [
    "src = list(DF.index_DOI)\n",
    "dst = list(DF.index_Venue)\n",
    "\n",
    "edge_index = torch.tensor([src, dst])\n",
    "\n",
    "data['Publication', 'in', 'Venue'].edge_index = edge_index"
   ]
  },
  {
   "cell_type": "code",
   "execution_count": 22,
   "id": "93a1e409",
   "metadata": {},
   "outputs": [
    {
     "data": {
      "text/plain": [
       "HeteroData(\n",
       "  \u001b[1mPublication\u001b[0m={ x=[6662, 8] },\n",
       "  \u001b[1mVenue\u001b[0m={ x=[2290, 8] },\n",
       "  \u001b[1mAuthor\u001b[0m={ x=[11884, 8] },\n",
       "  \u001b[1m(Venue, cite, Venue)\u001b[0m={ edge_index=[2, 15089] },\n",
       "  \u001b[1m(Publication, cite, Publication)\u001b[0m={ edge_index=[2, 15089] },\n",
       "  \u001b[1m(Publication, in, Venue)\u001b[0m={ edge_index=[2, 6354] }\n",
       ")"
      ]
     },
     "execution_count": 22,
     "metadata": {},
     "output_type": "execute_result"
    }
   ],
   "source": [
    "data"
   ]
  },
  {
   "cell_type": "code",
   "execution_count": 23,
   "id": "47baec26",
   "metadata": {},
   "outputs": [],
   "source": [
    "torch.save(data, ptHeteroData)"
   ]
  },
  {
   "cell_type": "code",
   "execution_count": null,
   "id": "77c5ddf4",
   "metadata": {},
   "outputs": [],
   "source": []
  }
 ],
 "metadata": {
  "kernelspec": {
   "display_name": "Python 3 (ipykernel)",
   "language": "python",
   "name": "python3"
  },
  "language_info": {
   "codemirror_mode": {
    "name": "ipython",
    "version": 3
   },
   "file_extension": ".py",
   "mimetype": "text/x-python",
   "name": "python",
   "nbconvert_exporter": "python",
   "pygments_lexer": "ipython3",
   "version": "3.8.8"
  }
 },
 "nbformat": 4,
 "nbformat_minor": 5
}
